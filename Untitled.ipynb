{
 "cells": [
  {
   "cell_type": "code",
   "execution_count": 41,
   "id": "52b56a08-dbfe-4c47-a0fb-a1dac5cbf26d",
   "metadata": {},
   "outputs": [],
   "source": [
    "data_string = ' سلام اتنتسیشا شسمنتیمسشنی غفعثغثص '"
   ]
  },
  {
   "cell_type": "code",
   "execution_count": 42,
   "id": "488c2261-0373-428a-b110-79c071c0ef4b",
   "metadata": {},
   "outputs": [],
   "source": [
    "data_string_split = list(data_string)"
   ]
  },
  {
   "cell_type": "code",
   "execution_count": 43,
   "id": "aba53635-b1f1-4d20-92ab-3e80a1f8af23",
   "metadata": {},
   "outputs": [],
   "source": [
    "datastringsplit_ascii = [ord(char) for char in data_string_split]"
   ]
  },
  {
   "cell_type": "code",
   "execution_count": 44,
   "id": "8c1b0722-a8ff-48a1-a660-ca80982ff72f",
   "metadata": {},
   "outputs": [
    {
     "name": "stdout",
     "output_type": "stream",
     "text": [
      "[32, 1587, 1604, 1575, 1605, 32, 1575, 1578, 1606, 1578, 1587, 1740, 1588, 1575, 32, 1588, 1587, 1605, 1606, 1578, 1740, 1605, 1587, 1588, 1606, 1740, 32, 1594, 1601, 1593, 1579, 1594, 1579, 1589, 32]\n"
     ]
    }
   ],
   "source": [
    "print(datastringsplit_ascii)"
   ]
  },
  {
   "cell_type": "code",
   "execution_count": 5,
   "id": "10e20da4-49e6-4576-a2dd-46b381de94bf",
   "metadata": {},
   "outputs": [],
   "source": [
    "for char in data_string_split:\n",
    "    datastringsplit_ascii.append(ord(char))"
   ]
  },
  {
   "cell_type": "code",
   "execution_count": 45,
   "id": "04df7fa9-0966-44ec-ac03-e86b2942db9d",
   "metadata": {},
   "outputs": [],
   "source": [
    "datastringsplit_ord = []"
   ]
  },
  {
   "cell_type": "code",
   "execution_count": 46,
   "id": "b994e7c8-51d0-45d1-9847-d689dda71a34",
   "metadata": {},
   "outputs": [],
   "source": [
    "for item in datastringsplit_ascii:\n",
    "    datastringsplit_ord.append(chr(item))"
   ]
  },
  {
   "cell_type": "code",
   "execution_count": 47,
   "id": "a2e5ac11-5081-467e-b49e-38f005c524e8",
   "metadata": {},
   "outputs": [
    {
     "data": {
      "text/plain": [
       "[' ',\n",
       " 'س',\n",
       " 'ل',\n",
       " 'ا',\n",
       " 'م',\n",
       " ' ',\n",
       " 'ا',\n",
       " 'ت',\n",
       " 'ن',\n",
       " 'ت',\n",
       " 'س',\n",
       " 'ی',\n",
       " 'ش',\n",
       " 'ا',\n",
       " ' ',\n",
       " 'ش',\n",
       " 'س',\n",
       " 'م',\n",
       " 'ن',\n",
       " 'ت',\n",
       " 'ی',\n",
       " 'م',\n",
       " 'س',\n",
       " 'ش',\n",
       " 'ن',\n",
       " 'ی',\n",
       " ' ',\n",
       " 'غ',\n",
       " 'ف',\n",
       " 'ع',\n",
       " 'ث',\n",
       " 'غ',\n",
       " 'ث',\n",
       " 'ص',\n",
       " ' ']"
      ]
     },
     "execution_count": 47,
     "metadata": {},
     "output_type": "execute_result"
    }
   ],
   "source": [
    "datastringsplit_ord"
   ]
  },
  {
   "cell_type": "code",
   "execution_count": 25,
   "id": "eac7c6d7-bd3c-4b3b-898a-f880be05b3a1",
   "metadata": {},
   "outputs": [],
   "source": [
    "data_tuple = tuple(datastringsplit_ord)"
   ]
  },
  {
   "cell_type": "code",
   "execution_count": 48,
   "id": "3b2bc70a-415f-4093-919a-bce1ccccae17",
   "metadata": {},
   "outputs": [],
   "source": [
    "data_string_new = ''.join(datastringsplit_ord)"
   ]
  },
  {
   "cell_type": "code",
   "execution_count": 49,
   "id": "6ed094c7-7765-415f-904b-f5a4628a7823",
   "metadata": {},
   "outputs": [
    {
     "data": {
      "text/plain": [
       "' سلام اتنتسیشا شسمنتیمسشنی غفعثغثص '"
      ]
     },
     "execution_count": 49,
     "metadata": {},
     "output_type": "execute_result"
    }
   ],
   "source": [
    "data_string_new"
   ]
  },
  {
   "cell_type": "code",
   "execution_count": 30,
   "id": "98c16737-2b71-4343-802f-c2035ce49153",
   "metadata": {},
   "outputs": [],
   "source": [
    "def example_function(param1 ,param2):\n",
    "    '''\n",
    "    this is a docstring for the example_function\n",
    "    '''\n",
    "    return hi"
   ]
  },
  {
   "cell_type": "code",
   "execution_count": null,
   "id": "d36fbbc2-b22c-49ba-9e07-c45faad99f2b",
   "metadata": {},
   "outputs": [],
   "source": [
    "example_function()"
   ]
  },
  {
   "cell_type": "code",
   "execution_count": 33,
   "id": "4b4c12b6-28e9-446f-a407-9724bcf2c0f1",
   "metadata": {},
   "outputs": [],
   "source": [
    "def my_generator():\n",
    "    yield 1\n",
    "    yield 2\n",
    "    yield 3"
   ]
  },
  {
   "cell_type": "code",
   "execution_count": 34,
   "id": "afc3f410-0097-47f5-996b-bd926674e998",
   "metadata": {},
   "outputs": [],
   "source": [
    "gen = my_generator()"
   ]
  },
  {
   "cell_type": "code",
   "execution_count": 38,
   "id": "76f6f199-d017-472c-aeeb-228cf0d6fbb6",
   "metadata": {},
   "outputs": [
    {
     "ename": "StopIteration",
     "evalue": "",
     "output_type": "error",
     "traceback": [
      "\u001b[0;31m---------------------------------------------------------------------------\u001b[0m",
      "\u001b[0;31mStopIteration\u001b[0m                             Traceback (most recent call last)",
      "Cell \u001b[0;32mIn[38], line 1\u001b[0m\n\u001b[0;32m----> 1\u001b[0m \u001b[38;5;28;43mnext\u001b[39;49m\u001b[43m(\u001b[49m\u001b[43mgen\u001b[49m\u001b[43m)\u001b[49m\n",
      "\u001b[0;31mStopIteration\u001b[0m: "
     ]
    }
   ],
   "source": [
    "next(gen)"
   ]
  },
  {
   "cell_type": "code",
   "execution_count": 39,
   "id": "f0a08f6b-5a34-4f05-9c3a-847f0e528b98",
   "metadata": {},
   "outputs": [
    {
     "data": {
      "text/plain": [
       "<enumerate at 0x7dd644005400>"
      ]
     },
     "execution_count": 39,
     "metadata": {},
     "output_type": "execute_result"
    }
   ],
   "source": [
    "enumerate(datastringsplit_ascii)"
   ]
  },
  {
   "cell_type": "code",
   "execution_count": null,
   "id": "4c3b4598-8864-4e24-b5f2-8adef17da94a",
   "metadata": {},
   "outputs": [],
   "source": []
  }
 ],
 "metadata": {
  "kernelspec": {
   "display_name": "Python 3 (ipykernel)",
   "language": "python",
   "name": "python3"
  },
  "language_info": {
   "codemirror_mode": {
    "name": "ipython",
    "version": 3
   },
   "file_extension": ".py",
   "mimetype": "text/x-python",
   "name": "python",
   "nbconvert_exporter": "python",
   "pygments_lexer": "ipython3",
   "version": "3.9.12"
  }
 },
 "nbformat": 4,
 "nbformat_minor": 5
}
